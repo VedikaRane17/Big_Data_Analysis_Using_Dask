{
 "cells": [
  {
   "cell_type": "code",
   "execution_count": 1,
   "id": "8b9cd4cd-005d-4ccc-b26d-6cb0748697aa",
   "metadata": {},
   "outputs": [
    {
     "name": "stdout",
     "output_type": "stream",
     "text": [
      "Requirement already satisfied: dask[complete] in c:\\anaconda\\vedika\\anaconda3\\lib\\site-packages (2025.2.0)\n",
      "Requirement already satisfied: click>=8.1 in c:\\anaconda\\vedika\\anaconda3\\lib\\site-packages (from dask[complete]) (8.1.8)\n",
      "Requirement already satisfied: cloudpickle>=3.0.0 in c:\\anaconda\\vedika\\anaconda3\\lib\\site-packages (from dask[complete]) (3.0.0)\n",
      "Requirement already satisfied: fsspec>=2021.09.0 in c:\\anaconda\\vedika\\anaconda3\\lib\\site-packages (from dask[complete]) (2025.3.2)\n",
      "Requirement already satisfied: packaging>=20.0 in c:\\anaconda\\vedika\\anaconda3\\lib\\site-packages (from dask[complete]) (24.2)\n",
      "Requirement already satisfied: partd>=1.4.0 in c:\\anaconda\\vedika\\anaconda3\\lib\\site-packages (from dask[complete]) (1.4.2)\n",
      "Requirement already satisfied: pyyaml>=5.3.1 in c:\\anaconda\\vedika\\anaconda3\\lib\\site-packages (from dask[complete]) (6.0.2)\n",
      "Requirement already satisfied: toolz>=0.10.0 in c:\\anaconda\\vedika\\anaconda3\\lib\\site-packages (from dask[complete]) (1.0.0)\n",
      "Requirement already satisfied: pyarrow>=14.0.1 in c:\\anaconda\\vedika\\anaconda3\\lib\\site-packages (from dask[complete]) (19.0.0)\n",
      "Requirement already satisfied: lz4>=4.3.2 in c:\\anaconda\\vedika\\anaconda3\\lib\\site-packages (from dask[complete]) (4.3.2)\n",
      "Requirement already satisfied: colorama in c:\\anaconda\\vedika\\anaconda3\\lib\\site-packages (from click>=8.1->dask[complete]) (0.4.6)\n",
      "Requirement already satisfied: locket in c:\\anaconda\\vedika\\anaconda3\\lib\\site-packages (from partd>=1.4.0->dask[complete]) (1.0.0)\n",
      "Requirement already satisfied: numpy>=1.24 in c:\\anaconda\\vedika\\anaconda3\\lib\\site-packages (from dask[complete]) (2.1.3)\n",
      "Requirement already satisfied: pandas>=2.0 in c:\\anaconda\\vedika\\anaconda3\\lib\\site-packages (from dask[complete]) (2.2.3)\n",
      "Requirement already satisfied: distributed==2025.2.0 in c:\\anaconda\\vedika\\anaconda3\\lib\\site-packages (from dask[complete]) (2025.2.0)\n",
      "Requirement already satisfied: bokeh>=3.1.0 in c:\\anaconda\\vedika\\anaconda3\\lib\\site-packages (from dask[complete]) (3.6.2)\n",
      "Requirement already satisfied: jinja2>=2.10.3 in c:\\anaconda\\vedika\\anaconda3\\lib\\site-packages (from dask[complete]) (3.1.6)\n",
      "Requirement already satisfied: msgpack>=1.0.2 in c:\\anaconda\\vedika\\anaconda3\\lib\\site-packages (from distributed==2025.2.0->dask[complete]) (1.0.3)\n",
      "Requirement already satisfied: psutil>=5.8.0 in c:\\anaconda\\vedika\\anaconda3\\lib\\site-packages (from distributed==2025.2.0->dask[complete]) (5.9.0)\n",
      "Requirement already satisfied: sortedcontainers>=2.0.5 in c:\\anaconda\\vedika\\anaconda3\\lib\\site-packages (from distributed==2025.2.0->dask[complete]) (2.4.0)\n",
      "Requirement already satisfied: tblib>=1.6.0 in c:\\anaconda\\vedika\\anaconda3\\lib\\site-packages (from distributed==2025.2.0->dask[complete]) (3.1.0)\n",
      "Requirement already satisfied: tornado>=6.2.0 in c:\\anaconda\\vedika\\anaconda3\\lib\\site-packages (from distributed==2025.2.0->dask[complete]) (6.5.1)\n",
      "Requirement already satisfied: urllib3>=1.26.5 in c:\\anaconda\\vedika\\anaconda3\\lib\\site-packages (from distributed==2025.2.0->dask[complete]) (2.3.0)\n",
      "Requirement already satisfied: zict>=3.0.0 in c:\\anaconda\\vedika\\anaconda3\\lib\\site-packages (from distributed==2025.2.0->dask[complete]) (3.0.0)\n",
      "Requirement already satisfied: contourpy>=1.2 in c:\\anaconda\\vedika\\anaconda3\\lib\\site-packages (from bokeh>=3.1.0->dask[complete]) (1.3.1)\n",
      "Requirement already satisfied: pillow>=7.1.0 in c:\\anaconda\\vedika\\anaconda3\\lib\\site-packages (from bokeh>=3.1.0->dask[complete]) (11.1.0)\n",
      "Requirement already satisfied: xyzservices>=2021.09.1 in c:\\anaconda\\vedika\\anaconda3\\lib\\site-packages (from bokeh>=3.1.0->dask[complete]) (2022.9.0)\n",
      "Requirement already satisfied: MarkupSafe>=2.0 in c:\\anaconda\\vedika\\anaconda3\\lib\\site-packages (from jinja2>=2.10.3->dask[complete]) (3.0.2)\n",
      "Requirement already satisfied: python-dateutil>=2.8.2 in c:\\anaconda\\vedika\\anaconda3\\lib\\site-packages (from pandas>=2.0->dask[complete]) (2.9.0.post0)\n",
      "Requirement already satisfied: pytz>=2020.1 in c:\\anaconda\\vedika\\anaconda3\\lib\\site-packages (from pandas>=2.0->dask[complete]) (2024.1)\n",
      "Requirement already satisfied: tzdata>=2022.7 in c:\\anaconda\\vedika\\anaconda3\\lib\\site-packages (from pandas>=2.0->dask[complete]) (2025.2)\n",
      "Requirement already satisfied: six>=1.5 in c:\\anaconda\\vedika\\anaconda3\\lib\\site-packages (from python-dateutil>=2.8.2->pandas>=2.0->dask[complete]) (1.17.0)\n"
     ]
    }
   ],
   "source": [
    "!pip install dask[complete]"
   ]
  },
  {
   "cell_type": "code",
   "execution_count": 2,
   "id": "44d5dd39-043a-45df-93b6-985f12821007",
   "metadata": {},
   "outputs": [],
   "source": [
    "import dask.dataframe as dd\n",
    "import matplotlib.pyplot as plt"
   ]
  },
  {
   "cell_type": "code",
   "execution_count": 4,
   "id": "21555bfe-e7d8-4bd9-ac97-7ef19d906247",
   "metadata": {},
   "outputs": [
    {
     "data": {
      "text/html": [
       "<div>\n",
       "<style scoped>\n",
       "    .dataframe tbody tr th:only-of-type {\n",
       "        vertical-align: middle;\n",
       "    }\n",
       "\n",
       "    .dataframe tbody tr th {\n",
       "        vertical-align: top;\n",
       "    }\n",
       "\n",
       "    .dataframe thead th {\n",
       "        text-align: right;\n",
       "    }\n",
       "</style>\n",
       "<table border=\"1\" class=\"dataframe\">\n",
       "  <thead>\n",
       "    <tr style=\"text-align: right;\">\n",
       "      <th></th>\n",
       "      <th>PassengerId</th>\n",
       "      <th>Survived</th>\n",
       "      <th>Pclass</th>\n",
       "      <th>Name</th>\n",
       "      <th>Sex</th>\n",
       "      <th>Age</th>\n",
       "      <th>SibSp</th>\n",
       "      <th>Parch</th>\n",
       "      <th>Ticket</th>\n",
       "      <th>Fare</th>\n",
       "      <th>Cabin</th>\n",
       "      <th>Embarked</th>\n",
       "    </tr>\n",
       "  </thead>\n",
       "  <tbody>\n",
       "    <tr>\n",
       "      <th>0</th>\n",
       "      <td>1</td>\n",
       "      <td>0</td>\n",
       "      <td>3</td>\n",
       "      <td>Braund, Mr. Owen Harris</td>\n",
       "      <td>male</td>\n",
       "      <td>22.0</td>\n",
       "      <td>1</td>\n",
       "      <td>0</td>\n",
       "      <td>A/5 21171</td>\n",
       "      <td>7.2500</td>\n",
       "      <td>&lt;NA&gt;</td>\n",
       "      <td>S</td>\n",
       "    </tr>\n",
       "    <tr>\n",
       "      <th>1</th>\n",
       "      <td>2</td>\n",
       "      <td>1</td>\n",
       "      <td>1</td>\n",
       "      <td>Cumings, Mrs. John Bradley (Florence Briggs Th...</td>\n",
       "      <td>female</td>\n",
       "      <td>38.0</td>\n",
       "      <td>1</td>\n",
       "      <td>0</td>\n",
       "      <td>PC 17599</td>\n",
       "      <td>71.2833</td>\n",
       "      <td>C85</td>\n",
       "      <td>C</td>\n",
       "    </tr>\n",
       "    <tr>\n",
       "      <th>2</th>\n",
       "      <td>3</td>\n",
       "      <td>1</td>\n",
       "      <td>3</td>\n",
       "      <td>Heikkinen, Miss. Laina</td>\n",
       "      <td>female</td>\n",
       "      <td>26.0</td>\n",
       "      <td>0</td>\n",
       "      <td>0</td>\n",
       "      <td>STON/O2. 3101282</td>\n",
       "      <td>7.9250</td>\n",
       "      <td>&lt;NA&gt;</td>\n",
       "      <td>S</td>\n",
       "    </tr>\n",
       "    <tr>\n",
       "      <th>3</th>\n",
       "      <td>4</td>\n",
       "      <td>1</td>\n",
       "      <td>1</td>\n",
       "      <td>Futrelle, Mrs. Jacques Heath (Lily May Peel)</td>\n",
       "      <td>female</td>\n",
       "      <td>35.0</td>\n",
       "      <td>1</td>\n",
       "      <td>0</td>\n",
       "      <td>113803</td>\n",
       "      <td>53.1000</td>\n",
       "      <td>C123</td>\n",
       "      <td>S</td>\n",
       "    </tr>\n",
       "    <tr>\n",
       "      <th>4</th>\n",
       "      <td>5</td>\n",
       "      <td>0</td>\n",
       "      <td>3</td>\n",
       "      <td>Allen, Mr. William Henry</td>\n",
       "      <td>male</td>\n",
       "      <td>35.0</td>\n",
       "      <td>0</td>\n",
       "      <td>0</td>\n",
       "      <td>373450</td>\n",
       "      <td>8.0500</td>\n",
       "      <td>&lt;NA&gt;</td>\n",
       "      <td>S</td>\n",
       "    </tr>\n",
       "  </tbody>\n",
       "</table>\n",
       "</div>"
      ],
      "text/plain": [
       "   PassengerId  Survived  Pclass  \\\n",
       "0            1         0       3   \n",
       "1            2         1       1   \n",
       "2            3         1       3   \n",
       "3            4         1       1   \n",
       "4            5         0       3   \n",
       "\n",
       "                                                Name     Sex   Age  SibSp  \\\n",
       "0                            Braund, Mr. Owen Harris    male  22.0      1   \n",
       "1  Cumings, Mrs. John Bradley (Florence Briggs Th...  female  38.0      1   \n",
       "2                             Heikkinen, Miss. Laina  female  26.0      0   \n",
       "3       Futrelle, Mrs. Jacques Heath (Lily May Peel)  female  35.0      1   \n",
       "4                           Allen, Mr. William Henry    male  35.0      0   \n",
       "\n",
       "   Parch            Ticket     Fare Cabin Embarked  \n",
       "0      0         A/5 21171   7.2500  <NA>        S  \n",
       "1      0          PC 17599  71.2833   C85        C  \n",
       "2      0  STON/O2. 3101282   7.9250  <NA>        S  \n",
       "3      0            113803  53.1000  C123        S  \n",
       "4      0            373450   8.0500  <NA>        S  "
      ]
     },
     "execution_count": 4,
     "metadata": {},
     "output_type": "execute_result"
    }
   ],
   "source": [
    "df = dd.read_csv('titanic.csv')\n",
    "df.head()"
   ]
  },
  {
   "cell_type": "code",
   "execution_count": 5,
   "id": "29900a90-3ba0-4a35-b675-0bc7e94e2390",
   "metadata": {},
   "outputs": [
    {
     "name": "stdout",
     "output_type": "stream",
     "text": [
      "Total rows (approx): 891\n",
      "\n",
      "Columns: Index(['PassengerId', 'Survived', 'Pclass', 'Name', 'Sex', 'Age', 'SibSp',\n",
      "       'Parch', 'Ticket', 'Fare', 'Cabin', 'Embarked'],\n",
      "      dtype='object')\n"
     ]
    }
   ],
   "source": [
    "# Basic info\n",
    "print(\"Total rows (approx):\", df.shape[0].compute())\n",
    "print(\"\\nColumns:\", df.columns)\n"
   ]
  },
  {
   "cell_type": "code",
   "execution_count": 6,
   "id": "92680b5d-3502-440d-b98a-40c1764bc913",
   "metadata": {},
   "outputs": [
    {
     "name": "stdout",
     "output_type": "stream",
     "text": [
      "\n",
      "Missing values per column:\n",
      " PassengerId      0\n",
      "Survived         0\n",
      "Pclass           0\n",
      "Name             0\n",
      "Sex              0\n",
      "Age            177\n",
      "SibSp            0\n",
      "Parch            0\n",
      "Ticket           0\n",
      "Fare             0\n",
      "Cabin          687\n",
      "Embarked         2\n",
      "dtype: int64\n"
     ]
    }
   ],
   "source": [
    "# Check for missing values\n",
    "print(\"\\nMissing values per column:\\n\", df.isnull().sum().compute())"
   ]
  },
  {
   "cell_type": "code",
   "execution_count": 7,
   "id": "d97b0f2e-c1f6-47ee-9e86-14b9b6f1c293",
   "metadata": {},
   "outputs": [
    {
     "name": "stdout",
     "output_type": "stream",
     "text": [
      "\n",
      "Survival Rate: 0.3838383838383838\n"
     ]
    }
   ],
   "source": [
    "# Calculate survival rate\n",
    "survival_rate = df['Survived'].mean().compute()\n",
    "print(\"\\nSurvival Rate:\", survival_rate)\n",
    "\n"
   ]
  },
  {
   "cell_type": "code",
   "execution_count": 8,
   "id": "78683e61-069a-4708-a71f-62c9710dea4e",
   "metadata": {},
   "outputs": [
    {
     "name": "stdout",
     "output_type": "stream",
     "text": [
      "\n",
      "Survival rate by Gender:\n",
      " Sex\n",
      "female    0.742038\n",
      "male      0.188908\n",
      "Name: Survived, dtype: float64\n"
     ]
    }
   ],
   "source": [
    "# Group by Sex and calculate survival rate\n",
    "grouped = df.groupby('Sex')['Survived'].mean().compute()\n",
    "print(\"\\nSurvival rate by Gender:\\n\", grouped)"
   ]
  },
  {
   "cell_type": "code",
   "execution_count": null,
   "id": "ffa473c8-2e5e-4f2c-856b-ab227451cd92",
   "metadata": {},
   "outputs": [],
   "source": []
  }
 ],
 "metadata": {
  "kernelspec": {
   "display_name": "Python 3 (ipykernel)",
   "language": "python",
   "name": "python3"
  },
  "language_info": {
   "codemirror_mode": {
    "name": "ipython",
    "version": 3
   },
   "file_extension": ".py",
   "mimetype": "text/x-python",
   "name": "python",
   "nbconvert_exporter": "python",
   "pygments_lexer": "ipython3",
   "version": "3.13.5"
  }
 },
 "nbformat": 4,
 "nbformat_minor": 5
}
